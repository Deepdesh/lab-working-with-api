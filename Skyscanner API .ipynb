{
 "cells": [
  {
   "cell_type": "markdown",
   "id": "champion-sodium",
   "metadata": {},
   "source": [
    "# Working with Skyscanner API"
   ]
  },
  {
   "cell_type": "markdown",
   "id": "olympic-healthcare",
   "metadata": {},
   "source": [
    "Following the class example, create a function that returns the price, names of origin and arrival airports and the name of the company. Do it for all the flights between two dates that cost the same."
   ]
  },
  {
   "cell_type": "markdown",
   "id": "departmental-arrangement",
   "metadata": {},
   "source": [
    "## Importing relevant libraries"
   ]
  },
  {
   "cell_type": "code",
   "execution_count": 7,
   "id": "sporting-allocation",
   "metadata": {},
   "outputs": [],
   "source": [
    "import requests\n",
    "import pandas as pd\n",
    "import getpass\n",
    "import requests"
   ]
  },
  {
   "cell_type": "code",
   "execution_count": 2,
   "id": "sudden-surge",
   "metadata": {},
   "outputs": [
    {
     "name": "stdout",
     "output_type": "stream",
     "text": [
      "········\n"
     ]
    }
   ],
   "source": [
    "#Authenticating\n",
    "\n",
    "rapidAPIkey = getpass.getpass()"
   ]
  },
  {
   "cell_type": "markdown",
   "id": "leading-cedar",
   "metadata": {},
   "source": [
    "# defining functions"
   ]
  },
  {
   "cell_type": "code",
   "execution_count": 3,
   "id": "further-spirituality",
   "metadata": {},
   "outputs": [],
   "source": [
    "def city_code(city_name):\n",
    "    url = \"https://skyscanner-skyscanner-flight-search-v1.p.rapidapi.com/apiservices/autosuggest/v1.0/US/USD/en-US/\"\n",
    "    params = {\"query\": city_name}\n",
    "    headers = {'x-rapidapi-host': \"skyscanner-skyscanner-flight-search-v1.p.rapidapi.com\",\n",
    "               'x-rapidapi-key': rapidAPIkey}\n",
    "    response = requests.get(url, headers = headers, params = params)\n",
    "    return response.json()[\"Places\"][0][\"PlaceId\"]\n",
    "\n",
    "def flight_prices(departure, arrival, date):\n",
    "    departure_code = city_code(departure)\n",
    "    arrival_code = city_code(arrival)\n",
    "    url = f\"https://skyscanner-skyscanner-flight-search-v1.p.rapidapi.com/apiservices/browsequotes/v1.0/US/USD/en-US/{departure_code}/{arrival_code}/{date}\"\n",
    "    params = {\"inboundpartialdate\":{date}}\n",
    "    headers = {\n",
    "    'x-rapidapi-host': \"skyscanner-skyscanner-flight-search-v1.p.rapidapi.com\",\n",
    "    'x-rapidapi-key': rapidAPIkey}\n",
    "    response = requests.get(url, headers=headers, params=params)\n",
    "    return response.json()\n",
    "\n",
    "def get_dates(start, end):\n",
    "    return pd.Series(pd.date_range(start, end,freq='d').format())\n",
    "\n",
    "def flight_days(origin, destination, start, end):\n",
    "    dates = get_dates(start, end)\n",
    "    return {date:flight_prices(origin, destination, date) for date in dates}\n",
    "\n",
    "\n",
    "# Lowest price from the dates and origin/dest we defined before -> function\n",
    "\n",
    "def lowest_price(origin, destination, start, end):\n",
    "    flights = flight_days(origin, destination, start, end)\n",
    "    prices = {date:min([quote[\"MinPrice\"] for quote in flights[date][\"Quotes\"]]) for date in flights for quote in flights[date][\"Quotes\"]}\n",
    "    \n",
    "    return prices\n",
    "        "
   ]
  },
  {
   "cell_type": "code",
   "execution_count": 4,
   "id": "cloudy-dairy",
   "metadata": {
    "scrolled": true
   },
   "outputs": [
    {
     "data": {
      "text/plain": [
       "{'Quotes': [{'QuoteId': 1,\n",
       "   'MinPrice': 48,\n",
       "   'Direct': True,\n",
       "   'OutboundLeg': {'CarrierIds': [1816],\n",
       "    'OriginId': 42414,\n",
       "    'DestinationId': 67652,\n",
       "    'DepartureDate': '2021-05-14T00:00:00'},\n",
       "   'QuoteDateTime': '2021-05-02T17:14:00'}],\n",
       " 'Carriers': [{'CarrierId': 1816, 'Name': 'Air Europa'}],\n",
       " 'Places': [{'Name': 'Barcelona',\n",
       "   'Type': 'Station',\n",
       "   'PlaceId': 42414,\n",
       "   'IataCode': 'BCN',\n",
       "   'SkyscannerCode': 'BCN',\n",
       "   'CityName': 'Barcelona',\n",
       "   'CityId': 'BARC',\n",
       "   'CountryName': 'Spain'},\n",
       "  {'Name': 'Madrid',\n",
       "   'Type': 'Station',\n",
       "   'PlaceId': 67652,\n",
       "   'IataCode': 'MAD',\n",
       "   'SkyscannerCode': 'MAD',\n",
       "   'CityName': 'Madrid',\n",
       "   'CityId': 'MADR',\n",
       "   'CountryName': 'Spain'}],\n",
       " 'Currencies': [{'Code': 'USD',\n",
       "   'Symbol': '$',\n",
       "   'ThousandsSeparator': ',',\n",
       "   'DecimalSeparator': '.',\n",
       "   'SymbolOnLeft': True,\n",
       "   'SpaceBetweenAmountAndSymbol': False,\n",
       "   'RoundingCoefficient': 0,\n",
       "   'DecimalDigits': 2}]}"
      ]
     },
     "execution_count": 4,
     "metadata": {},
     "output_type": "execute_result"
    }
   ],
   "source": [
    "flight_prices(\"Barcelona\", \"Madrid\", \"2021-05-14\")"
   ]
  },
  {
   "cell_type": "code",
   "execution_count": 5,
   "id": "mathematical-lawsuit",
   "metadata": {},
   "outputs": [
    {
     "data": {
      "text/plain": [
       "{'2021-05-03': 80,\n",
       " '2021-05-04': 58,\n",
       " '2021-05-05': 47,\n",
       " '2021-05-06': 38,\n",
       " '2021-05-07': 34,\n",
       " '2021-05-08': 19,\n",
       " '2021-05-09': 48,\n",
       " '2021-05-10': 19,\n",
       " '2021-05-11': 19,\n",
       " '2021-05-12': 19,\n",
       " '2021-05-13': 28,\n",
       " '2021-05-14': 48}"
      ]
     },
     "execution_count": 5,
     "metadata": {},
     "output_type": "execute_result"
    }
   ],
   "source": [
    "lowest_price(\"Barcelona\",\"Madrid\",\"2021-05-03\",\"2021-05-14\")"
   ]
  },
  {
   "cell_type": "markdown",
   "id": "primary-bunny",
   "metadata": {},
   "source": [
    "Create a function that returns the price, names of origin and arrival airports and the name of the company. Do it for all the flights between two dates that cost the same."
   ]
  },
  {
   "cell_type": "code",
   "execution_count": 6,
   "id": "satisfied-technology",
   "metadata": {},
   "outputs": [],
   "source": [
    "# Create a function that returns the price, names of origin and arrival airports and the name of the company. \n",
    "\n",
    "#This is being done by function flight_prices."
   ]
  },
  {
   "cell_type": "code",
   "execution_count": 18,
   "id": "entertaining-mayor",
   "metadata": {},
   "outputs": [],
   "source": [
    "#Do it for all the flights between two dates that cost the same.\n",
    "\n",
    "#To do this, maybe I can modify the function that is giving us lowest_prices between dates\n",
    "\n",
    "def flight_days(origin, destination, start, end):\n",
    "    dates = get_dates(start, end)\n",
    "    return {date:flight_prices(origin, destination, date) for date in dates}\n",
    "\n",
    "\n"
   ]
  },
  {
   "cell_type": "code",
   "execution_count": 11,
   "id": "smooth-affect",
   "metadata": {},
   "outputs": [
    {
     "name": "stdout",
     "output_type": "stream",
     "text": [
      "{\n",
      "  \"Quotes\" : [ ],\n",
      "  \"Carriers\" : [ ],\n",
      "  \"Places\" : [ ],\n",
      "  \"Currencies\" : [ {\n",
      "    \"Code\" : \"EUR\",\n",
      "    \"Symbol\" : \"€\",\n",
      "    \"ThousandsSeparator\" : \".\",\n",
      "    \"DecimalSeparator\" : \",\",\n",
      "    \"SymbolOnLeft\" : false,\n",
      "    \"SpaceBetweenAmountAndSymbol\" : true,\n",
      "    \"RoundingCoefficient\" : 0,\n",
      "    \"DecimalDigits\" : 2\n",
      "  } ]\n",
      "}\n"
     ]
    }
   ],
   "source": [
    "url = \"https://skyscanner-skyscanner-flight-search-v1.p.rapidapi.com/apiservices/browsequotes/v1.0/ES/EUR/ES-B/BCN/MAD/2021-05-14/2021-05-03\"\n",
    "\n",
    "headers = {\n",
    "    'x-rapidapi-key': rapidAPIkey,\n",
    "    'x-rapidapi-host': \"skyscanner-skyscanner-flight-search-v1.p.rapidapi.com\"\n",
    "    }\n",
    "\n",
    "response = requests.request(\"GET\", url, headers=headers)\n",
    "\n",
    "print(response.text)"
   ]
  },
  {
   "cell_type": "code",
   "execution_count": 13,
   "id": "passive-basics",
   "metadata": {},
   "outputs": [
    {
     "data": {
      "text/plain": [
       "{'2021-05-03': {'Quotes': [{'QuoteId': 1,\n",
       "    'MinPrice': 80,\n",
       "    'Direct': True,\n",
       "    'OutboundLeg': {'CarrierIds': [1816],\n",
       "     'OriginId': 42414,\n",
       "     'DestinationId': 67652,\n",
       "     'DepartureDate': '2021-05-03T00:00:00'},\n",
       "    'QuoteDateTime': '2021-05-01T16:25:00'}],\n",
       "  'Carriers': [{'CarrierId': 1816, 'Name': 'Air Europa'}],\n",
       "  'Places': [{'Name': 'Barcelona',\n",
       "    'Type': 'Station',\n",
       "    'PlaceId': 42414,\n",
       "    'IataCode': 'BCN',\n",
       "    'SkyscannerCode': 'BCN',\n",
       "    'CityName': 'Barcelona',\n",
       "    'CityId': 'BARC',\n",
       "    'CountryName': 'Spain'},\n",
       "   {'Name': 'Madrid',\n",
       "    'Type': 'Station',\n",
       "    'PlaceId': 67652,\n",
       "    'IataCode': 'MAD',\n",
       "    'SkyscannerCode': 'MAD',\n",
       "    'CityName': 'Madrid',\n",
       "    'CityId': 'MADR',\n",
       "    'CountryName': 'Spain'}],\n",
       "  'Currencies': [{'Code': 'USD',\n",
       "    'Symbol': '$',\n",
       "    'ThousandsSeparator': ',',\n",
       "    'DecimalSeparator': '.',\n",
       "    'SymbolOnLeft': True,\n",
       "    'SpaceBetweenAmountAndSymbol': False,\n",
       "    'RoundingCoefficient': 0,\n",
       "    'DecimalDigits': 2}]},\n",
       " '2021-05-04': {'Quotes': [{'QuoteId': 1,\n",
       "    'MinPrice': 58,\n",
       "    'Direct': False,\n",
       "    'OutboundLeg': {'CarrierIds': [1090],\n",
       "     'OriginId': 42414,\n",
       "     'DestinationId': 67652,\n",
       "     'DepartureDate': '2021-05-04T00:00:00'},\n",
       "    'QuoteDateTime': '2021-05-02T16:00:00'},\n",
       "   {'QuoteId': 2,\n",
       "    'MinPrice': 66,\n",
       "    'Direct': True,\n",
       "    'OutboundLeg': {'CarrierIds': [1218],\n",
       "     'OriginId': 42414,\n",
       "     'DestinationId': 67652,\n",
       "     'DepartureDate': '2021-05-04T00:00:00'},\n",
       "    'QuoteDateTime': '2021-05-02T16:00:00'}],\n",
       "  'Carriers': [{'CarrierId': 1090, 'Name': 'Ryanair'},\n",
       "   {'CarrierId': 1218, 'Name': 'Iberia'}],\n",
       "  'Places': [{'Name': 'Barcelona',\n",
       "    'Type': 'Station',\n",
       "    'PlaceId': 42414,\n",
       "    'IataCode': 'BCN',\n",
       "    'SkyscannerCode': 'BCN',\n",
       "    'CityName': 'Barcelona',\n",
       "    'CityId': 'BARC',\n",
       "    'CountryName': 'Spain'},\n",
       "   {'Name': 'Madrid',\n",
       "    'Type': 'Station',\n",
       "    'PlaceId': 67652,\n",
       "    'IataCode': 'MAD',\n",
       "    'SkyscannerCode': 'MAD',\n",
       "    'CityName': 'Madrid',\n",
       "    'CityId': 'MADR',\n",
       "    'CountryName': 'Spain'}],\n",
       "  'Currencies': [{'Code': 'USD',\n",
       "    'Symbol': '$',\n",
       "    'ThousandsSeparator': ',',\n",
       "    'DecimalSeparator': '.',\n",
       "    'SymbolOnLeft': True,\n",
       "    'SpaceBetweenAmountAndSymbol': False,\n",
       "    'RoundingCoefficient': 0,\n",
       "    'DecimalDigits': 2}]}}"
      ]
     },
     "execution_count": 13,
     "metadata": {},
     "output_type": "execute_result"
    }
   ],
   "source": [
    "flight_days(\"Barcelona\", \"Madrid\", \"2021-05-03\", \"2021-05-04\")"
   ]
  },
  {
   "cell_type": "code",
   "execution_count": 22,
   "id": "bridal-devil",
   "metadata": {},
   "outputs": [],
   "source": [
    "flight = flight_days(\"Barcelona\",\"Madrid\",\"2021-05-03\",\"2021-05-14\")"
   ]
  },
  {
   "cell_type": "code",
   "execution_count": 35,
   "id": "considered-provider",
   "metadata": {},
   "outputs": [
    {
     "data": {
      "text/plain": [
       "12"
      ]
     },
     "execution_count": 35,
     "metadata": {},
     "output_type": "execute_result"
    }
   ],
   "source": [
    "len(flight)"
   ]
  },
  {
   "cell_type": "code",
   "execution_count": 24,
   "id": "bored-semiconductor",
   "metadata": {},
   "outputs": [],
   "source": [
    "prices = {}\n",
    "for date in flight:\n",
    "    result = flight[date]['Quotes'][0]['MinPrice']\n",
    "    prices[date] = result"
   ]
  },
  {
   "cell_type": "code",
   "execution_count": 25,
   "id": "altered-penny",
   "metadata": {},
   "outputs": [
    {
     "data": {
      "text/plain": [
       "{'2021-05-03': 80,\n",
       " '2021-05-04': 58,\n",
       " '2021-05-05': 47,\n",
       " '2021-05-06': 38,\n",
       " '2021-05-07': 34,\n",
       " '2021-05-08': 19,\n",
       " '2021-05-09': 48,\n",
       " '2021-05-10': 19,\n",
       " '2021-05-11': 19,\n",
       " '2021-05-12': 19,\n",
       " '2021-05-13': 28,\n",
       " '2021-05-14': 48}"
      ]
     },
     "execution_count": 25,
     "metadata": {},
     "output_type": "execute_result"
    }
   ],
   "source": [
    "prices"
   ]
  },
  {
   "cell_type": "code",
   "execution_count": 26,
   "id": "mineral-correction",
   "metadata": {},
   "outputs": [
    {
     "data": {
      "text/plain": [
       "dict_keys(['2021-05-03', '2021-05-04', '2021-05-05', '2021-05-06', '2021-05-07', '2021-05-08', '2021-05-09', '2021-05-10', '2021-05-11', '2021-05-12', '2021-05-13', '2021-05-14'])"
      ]
     },
     "execution_count": 26,
     "metadata": {},
     "output_type": "execute_result"
    }
   ],
   "source": [
    "prices.keys()"
   ]
  },
  {
   "cell_type": "code",
   "execution_count": 43,
   "id": "polar-argentina",
   "metadata": {},
   "outputs": [],
   "source": [
    "def equal_price(origin, destination, start, end):\n",
    "    \n",
    "    flight = flight_days(origin, destination, start, end)\n",
    "    \n",
    "    prices = {}\n",
    "    \n",
    "    for date in flight:\n",
    "        \n",
    "            result = flight[date]['Quotes'][0]['MinPrice']\n",
    "            prices[date] = result\n",
    "    \n",
    "    dates = list(prices.keys())\n",
    "    prices = list(prices.values())  \n",
    "    \n",
    "    flights_df = pd.DataFrame([dates, prices]).T\n",
    "    flights_df.columns = ['Date', 'Price']\n",
    "    flights_df.sort_values(['Price'], inplace = True)\n",
    "    \n",
    "    \n",
    "    return flights_df"
   ]
  },
  {
   "cell_type": "code",
   "execution_count": 46,
   "id": "thousand-listening",
   "metadata": {},
   "outputs": [
    {
     "data": {
      "text/html": [
       "<div>\n",
       "<style scoped>\n",
       "    .dataframe tbody tr th:only-of-type {\n",
       "        vertical-align: middle;\n",
       "    }\n",
       "\n",
       "    .dataframe tbody tr th {\n",
       "        vertical-align: top;\n",
       "    }\n",
       "\n",
       "    .dataframe thead th {\n",
       "        text-align: right;\n",
       "    }\n",
       "</style>\n",
       "<table border=\"1\" class=\"dataframe\">\n",
       "  <thead>\n",
       "    <tr style=\"text-align: right;\">\n",
       "      <th></th>\n",
       "      <th>Date</th>\n",
       "      <th>Price</th>\n",
       "    </tr>\n",
       "  </thead>\n",
       "  <tbody>\n",
       "    <tr>\n",
       "      <th>0</th>\n",
       "      <td>2021-05-10</td>\n",
       "      <td>19</td>\n",
       "    </tr>\n",
       "    <tr>\n",
       "      <th>1</th>\n",
       "      <td>2021-05-11</td>\n",
       "      <td>19</td>\n",
       "    </tr>\n",
       "    <tr>\n",
       "      <th>2</th>\n",
       "      <td>2021-05-12</td>\n",
       "      <td>19</td>\n",
       "    </tr>\n",
       "  </tbody>\n",
       "</table>\n",
       "</div>"
      ],
      "text/plain": [
       "         Date Price\n",
       "0  2021-05-10    19\n",
       "1  2021-05-11    19\n",
       "2  2021-05-12    19"
      ]
     },
     "execution_count": 46,
     "metadata": {},
     "output_type": "execute_result"
    }
   ],
   "source": [
    "equal_price(\"Barcelona\",\"Madrid\",\"2021-05-10\",\"2021-05-12\")"
   ]
  },
  {
   "cell_type": "code",
   "execution_count": 38,
   "id": "proprietary-messenger",
   "metadata": {},
   "outputs": [
    {
     "data": {
      "text/plain": [
       "'BCN-sky'"
      ]
     },
     "execution_count": 38,
     "metadata": {},
     "output_type": "execute_result"
    }
   ],
   "source": [
    "city_code(\"Barcelona\")"
   ]
  },
  {
   "cell_type": "code",
   "execution_count": null,
   "id": "compound-turkish",
   "metadata": {},
   "outputs": [],
   "source": []
  }
 ],
 "metadata": {
  "kernelspec": {
   "display_name": "Python 3",
   "language": "python",
   "name": "python3"
  },
  "language_info": {
   "codemirror_mode": {
    "name": "ipython",
    "version": 3
   },
   "file_extension": ".py",
   "mimetype": "text/x-python",
   "name": "python",
   "nbconvert_exporter": "python",
   "pygments_lexer": "ipython3",
   "version": "3.9.2"
  }
 },
 "nbformat": 4,
 "nbformat_minor": 5
}
